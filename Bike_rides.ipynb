{
  "cells": [
    {
      "cell_type": "code",
      "execution_count": null,
      "metadata": {
        "colab": {
          "base_uri": "https://localhost:8080/"
        },
        "id": "JO-YfnWxf3KL",
        "outputId": "762af830-9e2d-4ae9-ef50-ecacc2962a36"
      },
      "outputs": [
        {
          "output_type": "stream",
          "name": "stdout",
          "text": [
            "sample_data\n"
          ]
        }
      ],
      "source": [
        "# check if this instance of the notebook already has files present\n",
        "# and thus determine which steps required prior to reading in file and handling the data\n",
        "!ls"
      ]
    },
    {
      "cell_type": "code",
      "execution_count": null,
      "metadata": {
        "colab": {
          "base_uri": "https://localhost:8080/"
        },
        "id": "u0uHlZiNh1IQ",
        "outputId": "8b61e8d2-4c5e-45ca-f22a-e00bd7b24f78"
      },
      "outputs": [
        {
          "output_type": "stream",
          "name": "stdout",
          "text": [
            "\u001b[H\u001b[2Jwelcome\n",
            "--2023-05-25 00:38:01--  https://downloads.apache.org/spark/spark-3.3.2/spark-3.3.2-bin-hadoop3.tgz\n",
            "Resolving downloads.apache.org (downloads.apache.org)... 88.99.95.219, 135.181.214.104, 2a01:4f9:3a:2c57::2, ...\n",
            "Connecting to downloads.apache.org (downloads.apache.org)|88.99.95.219|:443... connected.\n",
            "HTTP request sent, awaiting response... 200 OK\n",
            "Length: 299360284 (285M) [application/x-gzip]\n",
            "Saving to: ‘spark-3.3.2-bin-hadoop3.tgz’\n",
            "\n",
            "spark-3.3.2-bin-had 100%[===================>] 285.49M  19.7MB/s    in 15s     \n",
            "\n",
            "2023-05-25 00:38:18 (18.4 MB/s) - ‘spark-3.3.2-bin-hadoop3.tgz’ saved [299360284/299360284]\n",
            "\n",
            "total 292372\n",
            "drwxr-xr-x  1 root root      4096 May 25 00:38 .\n",
            "drwxr-xr-x  1 root root      4096 May 25 00:21 ..\n",
            "drwxr-xr-x  1 root root      4096 May 23 13:31 sample_data\n",
            "drwxr-xr-x  4 root root      4096 May 23 13:30 .config\n",
            "-rw-r--r--  1 root root 299360284 Feb 10 21:28 spark-3.3.2-bin-hadoop3.tgz\n",
            "drwxr-xr-x 13  501 1000      4096 Feb 10 20:40 spark-3.3.2-bin-hadoop3\n",
            "standalone Spark is now installed\n"
          ]
        }
      ],
      "source": [
        "# set-up spark (NB if Apache amend versions on download site we will need to amend path in wget command)\n",
        "## NOTE that this version would make use of Hadoop if installed BUT that HDFS & Hadoop is not installed on our Colab\n",
        "## (we are only using a single node (probably as a VM) so we will not be able to benefit from parallelism)\n",
        "!clear\n",
        "!echo welcome\n",
        "\n",
        "!rm -f spark-3.3.[01]-bin-hadoop3.tgz* \n",
        "!rm -rf spark-3.3.[01]-bin-hadoop3\n",
        "\n",
        "!apt-get install openjdk-8-jdk-headless -qq > /dev/null\n",
        "!wget https://downloads.apache.org/spark/spark-3.3.2/spark-3.3.2-bin-hadoop3.tgz\n",
        "!tar -xf spark-3.3.2-bin-hadoop3.tgz\n",
        "\n",
        "!ls -alt\n",
        "print(\"standalone Spark is now installed\")"
      ]
    },
    {
      "cell_type": "code",
      "execution_count": null,
      "metadata": {
        "colab": {
          "base_uri": "https://localhost:8080/",
          "height": 310
        },
        "id": "8cDNudJqVZJA",
        "outputId": "5e319548-a637-4840-8c27-761ceafbed49"
      },
      "outputs": [
        {
          "output_type": "stream",
          "name": "stdout",
          "text": [
            "Looking in indexes: https://pypi.org/simple, https://us-python.pkg.dev/colab-wheels/public/simple/\n",
            "Collecting findspark\n",
            "  Downloading findspark-2.0.1-py2.py3-none-any.whl (4.4 kB)\n",
            "Installing collected packages: findspark\n",
            "Successfully installed findspark-2.0.1\n"
          ]
        },
        {
          "output_type": "execute_result",
          "data": {
            "text/plain": [
              "<pyspark.sql.session.SparkSession at 0x7f50cc1ca7a0>"
            ],
            "text/html": [
              "\n",
              "            <div>\n",
              "                <p><b>SparkSession - in-memory</b></p>\n",
              "                \n",
              "        <div>\n",
              "            <p><b>SparkContext</b></p>\n",
              "\n",
              "            <p><a href=\"http://8cb489fe4737:4040\">Spark UI</a></p>\n",
              "\n",
              "            <dl>\n",
              "              <dt>Version</dt>\n",
              "                <dd><code>v3.3.2</code></dd>\n",
              "              <dt>Master</dt>\n",
              "                <dd><code>local[2]</code></dd>\n",
              "              <dt>AppName</dt>\n",
              "                <dd><code>MyApp</code></dd>\n",
              "            </dl>\n",
              "        </div>\n",
              "        \n",
              "            </div>\n",
              "        "
            ]
          },
          "metadata": {},
          "execution_count": 5
        }
      ],
      "source": [
        "!pip3 install findspark\n",
        "import os\n",
        "os.environ[\"JAVA_HOME\"] = \"/usr/lib/jvm/java-8-openjdk-amd64\"\n",
        "os.environ[\"SPARK_HOME\"] = \"/content/spark-3.3.2-bin-hadoop3\"\n",
        "import findspark\n",
        "findspark.init()\n",
        "from pyspark import SparkConf, SparkContext\n",
        "# the next line gives us 'local' mode. try 'local[2]' to use 2 cores or 'master:NNNN' to run on Spark standalone cluster at port NNNN\n",
        "spark_conf = SparkConf().setMaster('local[2]').setAppName('MyApp')\n",
        "sc = SparkContext(conf=spark_conf)\n",
        "# see what we have by examining the Spark User Interface\n",
        "from pyspark.sql import *\n",
        "from pyspark.sql.functions import *\n",
        "SparkSession.builder.getOrCreate()"
      ]
    },
    {
      "cell_type": "code",
      "execution_count": null,
      "metadata": {
        "id": "JJNrY1j2Vio3"
      },
      "outputs": [],
      "source": [
        "#init spark (ensure SPARK_HOME set to same version as we download)\n",
        "import os\n",
        "\n",
        "\n",
        "# use 'spark' as reference (as per standard approach)\n",
        "spark = SparkSession.builder.appName(\"bikes\").getOrCreate()"
      ]
    },
    {
      "cell_type": "code",
      "execution_count": null,
      "metadata": {
        "colab": {
          "base_uri": "https://localhost:8080/"
        },
        "id": "FIbtwDMQVx8t",
        "outputId": "848e0a1d-58a0-4a2e-c536-c59db71418e2"
      },
      "outputs": [
        {
          "output_type": "stream",
          "name": "stdout",
          "text": [
            "--2023-05-25 00:38:38--  https://cycling.data.tfl.gov.uk/usage-stats/cyclehireusagestats-2014.zip\n",
            "Resolving cycling.data.tfl.gov.uk (cycling.data.tfl.gov.uk)... 104.16.101.13, 104.16.100.13\n",
            "Connecting to cycling.data.tfl.gov.uk (cycling.data.tfl.gov.uk)|104.16.101.13|:443... connected.\n",
            "HTTP request sent, awaiting response... 200 OK\n",
            "Length: 225215129 (215M) [application/zip]\n",
            "Saving to: ‘cyclehireusagestats-2014.zip’\n",
            "\n",
            "cyclehireusagestats 100%[===================>] 214.78M  27.9MB/s    in 9.9s    \n",
            "\n",
            "2023-05-25 00:38:49 (21.7 MB/s) - ‘cyclehireusagestats-2014.zip’ saved [225215129/225215129]\n",
            "\n",
            "Archive:  cyclehireusagestats-2014.zip\n",
            "  inflating: 1. Journey Data Extract 05Jan14-02Feb14.csv  \n",
            "  inflating: 10a. Journey Data Extract 14Sep14-27Sep14.csv  \n",
            "  inflating: 10b. Journey Data Extract 28Sep14-11Oct14.csv  \n",
            "  inflating: 11a. Journey Data Extract 12Oct14-08Nov14.csv  \n",
            "  inflating: 11b. Journey Data Extract 12Oct14-08Nov14.csv  \n",
            "  inflating: 12a. Journey Data Extract 09Nov14-06Dec14.csv  \n",
            "  inflating: 12b. Journey Data Extract 09Nov14-06Dec14.csv  \n",
            "  inflating: 13a. Journey Data Extract 07Dec14-21Dec14.csv  \n",
            "  inflating: 13b. Journey Data Extract 22Dec14-03Jan15.csv  \n",
            "  inflating: 14. Journey Data Extract 08Dec13-04Jan14.csv  \n",
            "  inflating: 2. Journey Data Extract 03Feb14-01Mar14.csv  \n",
            "  inflating: 3. Journey Data Extract 02Mar14-31Mar14.csv  \n",
            "  inflating: 4. Journey Data Extract 01Apr14-26Apr14.csv  \n",
            "  inflating: 5. Journey Data Extract 27Apr14-24May14.csv  \n",
            "  inflating: 6. Journey Data Extract 25May14-21Jun14.csv  \n",
            "  inflating: 7. Journey Data Extract 22Jun14-19Jul14.csv  \n",
            "  inflating: 8a Journey Data Extract 20Jul14-31Jul14.csv  \n",
            "  inflating: 8b Journey Data Extract 01Aug14-16Aug14.csv  \n",
            "  inflating: 9a Journey Data Extract 17Aug14-31Aug14.csv  \n",
            "  inflating: 9b Journey Data Extract 01Sep14-13Sep14.csv  \n"
          ]
        }
      ],
      "source": [
        "# get bike hire file for given year from TfL open data\n",
        "!wget https://cycling.data.tfl.gov.uk/usage-stats/cyclehireusagestats-2014.zip\n",
        "!unzip cyclehireusagestats-2014.zip"
      ]
    },
    {
      "cell_type": "code",
      "execution_count": null,
      "metadata": {
        "colab": {
          "base_uri": "https://localhost:8080/"
        },
        "id": "Y4ZqP20IV3rT",
        "outputId": "cb1437df-0f4f-491a-e551-7b69dca5c665"
      },
      "outputs": [
        {
          "output_type": "stream",
          "name": "stdout",
          "text": [
            "'10a. Journey Data Extract 14Sep14-27Sep14.csv'\n",
            "'10b. Journey Data Extract 28Sep14-11Oct14.csv'\n",
            "'11a. Journey Data Extract 12Oct14-08Nov14.csv'\n",
            "'11b. Journey Data Extract 12Oct14-08Nov14.csv'\n",
            "'12a. Journey Data Extract 09Nov14-06Dec14.csv'\n",
            "'12b. Journey Data Extract 09Nov14-06Dec14.csv'\n",
            "'13a. Journey Data Extract 07Dec14-21Dec14.csv'\n",
            "'13b. Journey Data Extract 22Dec14-03Jan15.csv'\n",
            "'14. Journey Data Extract 08Dec13-04Jan14.csv'\n",
            "'1. Journey Data Extract 05Jan14-02Feb14.csv'\n",
            "'2. Journey Data Extract 03Feb14-01Mar14.csv'\n",
            "'3. Journey Data Extract 02Mar14-31Mar14.csv'\n",
            "'4. Journey Data Extract 01Apr14-26Apr14.csv'\n",
            "'5. Journey Data Extract 27Apr14-24May14.csv'\n",
            "'6. Journey Data Extract 25May14-21Jun14.csv'\n",
            "'7. Journey Data Extract 22Jun14-19Jul14.csv'\n",
            "'8a Journey Data Extract 20Jul14-31Jul14.csv'\n",
            "'8b Journey Data Extract 01Aug14-16Aug14.csv'\n",
            "'9a Journey Data Extract 17Aug14-31Aug14.csv'\n",
            "'9b Journey Data Extract 01Sep14-13Sep14.csv'\n",
            " cyclehireusagestats-2014.zip\n",
            " sample_data\n",
            " spark-3.3.2-bin-hadoop3\n",
            " spark-3.3.2-bin-hadoop3.tgz\n"
          ]
        }
      ],
      "source": [
        "#read a file into a DF called \"cycle_df\"\n",
        "!ls\n",
        "file=\"./1. Journey*csv\"\n",
        "spark = SparkSession.builder.appName(\"bikes\").getOrCreate()\n",
        "cycle_df = (spark.read.format(\"csv\")\n",
        "         .option(\"header\", \"true\")\n",
        "         .option(\"inferSchema\", \"true\")\n",
        "         .load(file))"
      ]
    },
    {
      "cell_type": "code",
      "source": [],
      "metadata": {
        "id": "PyBdXot9iVbU"
      },
      "execution_count": null,
      "outputs": []
    },
    {
      "cell_type": "code",
      "execution_count": null,
      "metadata": {
        "colab": {
          "base_uri": "https://localhost:8080/"
        },
        "id": "PWzKL4AlWbQj",
        "outputId": "24febc8f-660a-4650-b8f5-550253aadbd0"
      },
      "outputs": [
        {
          "output_type": "stream",
          "name": "stdout",
          "text": [
            "there are  463523  rows\n"
          ]
        }
      ],
      "source": [
        "# see how many entries (rows) in data\n",
        "numRows = cycle_df.count()\n",
        "print(\"there are \",numRows,\" rows\")"
      ]
    },
    {
      "cell_type": "code",
      "execution_count": null,
      "metadata": {
        "colab": {
          "base_uri": "https://localhost:8080/"
        },
        "id": "BfYiwnpR01kz",
        "outputId": "eabfc78d-f6ce-4773-cfa6-9a4a33bf778f"
      },
      "outputs": [
        {
          "output_type": "stream",
          "name": "stdout",
          "text": [
            "+---------+--------+-------+----------------+-------------+--------------------+----------------+---------------+--------------------+\n",
            "|Rental Id|Duration|Bike Id|        End Date|EndStation Id|     EndStation Name|      Start Date|StartStation Id|   StartStation Name|\n",
            "+---------+--------+-------+----------------+-------------+--------------------+----------------+---------------+--------------------+\n",
            "| 29747123|    1140|    469|05/01/2014 15:54|           55|Finsbury Circus, ...|05/01/2014 15:35|            295|Swan Street, The ...|\n",
            "| 29764212|    1560|   6924|06/01/2014 23:30|           93|Cloudesley Road, ...|06/01/2014 23:04|            311|Foley Street, Fit...|\n",
            "| 29824742|    1200|   4115|09/01/2014 23:25|          697|Charlotte Terrace...|09/01/2014 23:05|             81|Great Titchfield ...|\n",
            "| 29966133|    1380|   2077|17/01/2014 14:06|          695|Islington Green, ...|17/01/2014 13:43|            311|Foley Street, Fit...|\n",
            "| 29992354|    1320|  12069|18/01/2014 21:06|          257|Westminster Unive...|18/01/2014 20:44|            225|Notting Hill Gate...|\n",
            "| 30079901|    1080|    799|22/01/2014 23:38|          697|Charlotte Terrace...|22/01/2014 23:20|            311|Foley Street, Fit...|\n",
            "| 30137153|    1440|    590|25/01/2014 21:11|          191|Hyde Park Corner,...|25/01/2014 20:47|            730|Bridge Avenue, Ha...|\n",
            "| 30186525|    1440|   2260|28/01/2014 23:27|          697|Charlotte Terrace...|28/01/2014 23:03|              6|Broadcasting Hous...|\n",
            "| 29981026|    1200|   1246|18/01/2014 12:25|          233|Pall Mall East, W...|18/01/2014 12:05|            430|South Parade, Che...|\n",
            "| 29926530|     480|   4405|15/01/2014 12:42|           72|Farringdon Lane, ...|15/01/2014 12:34|            331|Bunhill Row, Moor...|\n",
            "+---------+--------+-------+----------------+-------------+--------------------+----------------+---------------+--------------------+\n",
            "only showing top 10 rows\n",
            "\n"
          ]
        }
      ],
      "source": [
        "cycle_df.show(10)"
      ]
    },
    {
      "cell_type": "code",
      "execution_count": null,
      "metadata": {
        "id": "ygsRwCj4W7sD",
        "colab": {
          "base_uri": "https://localhost:8080/",
          "height": 466
        },
        "outputId": "73749cab-9ab3-44b9-d700-8a31953b65eb"
      },
      "outputs": [
        {
          "output_type": "stream",
          "name": "stdout",
          "text": [
            "we use '_pdf' to denote 'pandas data frame'\n"
          ]
        },
        {
          "output_type": "display_data",
          "data": {
            "text/plain": [
              "<Figure size 640x480 with 1 Axes>"
            ],
            "image/png": "[encoded data removed]"
          },
          "metadata": {}
        }
      ],
      "source": [
        "# how to do a histogram of e.g. duration\n",
        "# there is no graphical element of Spark (CHECK) so need to do locally\n",
        "# we can use Python libs pandas & matplotlib\n",
        "\n",
        "# import Python libs\n",
        "import matplotlib.pyplot as plt\n",
        "import pandas as pd\n",
        "\n",
        "plot_pdf = cycle_df[[\"Duration\"]].toPandas() # take just \"Duration\" col, convert to pandas dataframe structure ready to plot\n",
        "#print(\"we have \", plot_df.count(),\" elements to plot\")\n",
        "print(\"we use '_pdf' to denote 'pandas data frame'\")\n",
        "\n",
        "plot_pdf.plot(kind=\"hist\")\n",
        "plt.show()"
      ]
    },
    {
      "cell_type": "code",
      "execution_count": null,
      "metadata": {
        "id": "3QOIbvkEXkCO"
      },
      "outputs": [],
      "source": [
        "#get a subset of the dataset containing dates for autumn\n",
        "autumn_df = (spark.read.format(\"csv\")\n",
        "         .option(\"header\", \"true\")\n",
        "         .option(\"inferSchema\", \"true\")\n",
        "         .load(['./10a*csv', './10b*csv', './11a*csv', './12a*csv', './13a*csv']))"
      ]
    },
    {
      "cell_type": "code",
      "execution_count": null,
      "metadata": {
        "id": "wkBoZvz7f0JS"
      },
      "outputs": [],
      "source": [
        "#check for null values\n",
        "from pyspark.sql.functions import isnan, isnull\n",
        "null_counts = autumn_df.agg(*(sum(isnull(c).cast(\"int\")).alias(c) for c in autumn_df.columns))"
      ]
    },
    {
      "cell_type": "code",
      "execution_count": null,
      "metadata": {
        "id": "SIXXinMEjXiG",
        "colab": {
          "base_uri": "https://localhost:8080/"
        },
        "outputId": "44fe93b4-e6ea-4164-a5c7-c2b9969fe0f6"
      },
      "outputs": [
        {
          "output_type": "stream",
          "name": "stdout",
          "text": [
            "there are  2445464  rows\n"
          ]
        }
      ],
      "source": [
        "# see how many entries (rows) in data\n",
        "numrows = autumn_df.count()\n",
        "print(\"there are \",numrows,\" rows\")"
      ]
    },
    {
      "cell_type": "code",
      "execution_count": null,
      "metadata": {
        "id": "9oIp34eoih8m",
        "colab": {
          "base_uri": "https://localhost:8080/"
        },
        "outputId": "a956f212-c6c1-4189-bdfd-0aea71fe1583"
      },
      "outputs": [
        {
          "output_type": "stream",
          "name": "stdout",
          "text": [
            "+---------+--------+-------+--------+-------------+---------------+----------+---------------+-----------------+-------+-------+-------+\n",
            "|Rental Id|Duration|Bike Id|End Date|EndStation Id|EndStation Name|Start Date|StartStation Id|StartStation Name|    _c9|   _c10|   _c11|\n",
            "+---------+--------+-------+--------+-------------+---------------+----------+---------------+-----------------+-------+-------+-------+\n",
            "|   488627|  488627| 488627|  488627|       488653|         488653|    488627|         488627|           488627|2445464|2445464|2445464|\n",
            "+---------+--------+-------+--------+-------------+---------------+----------+---------------+-----------------+-------+-------+-------+\n",
            "\n"
          ]
        }
      ],
      "source": [
        "#show the number of rows containing null values\n",
        "null_counts.show()"
      ]
    },
    {
      "cell_type": "code",
      "execution_count": null,
      "metadata": {
        "id": "ha-BV7Idk2FG"
      },
      "outputs": [],
      "source": [
        "#drop the columns that are empty\n",
        "autumn_df = autumn_df.drop('_c9', '_c10', '_c11')"
      ]
    },
    {
      "cell_type": "code",
      "execution_count": null,
      "metadata": {
        "id": "W00wX27mnoDG"
      },
      "outputs": [],
      "source": [
        "#drop rows containing null values\n",
        "autumn_df = autumn_df.na.drop()"
      ]
    },
    {
      "cell_type": "code",
      "execution_count": null,
      "metadata": {
        "id": "ktswDczKnxEK",
        "colab": {
          "base_uri": "https://localhost:8080/"
        },
        "outputId": "97b9d82b-cf23-4a08-b325-16241e39b8bc"
      },
      "outputs": [
        {
          "output_type": "stream",
          "name": "stdout",
          "text": [
            "+---------+--------+-------+--------+-------------+---------------+----------+---------------+-----------------+\n",
            "|Rental Id|Duration|Bike Id|End Date|EndStation Id|EndStation Name|Start Date|StartStation Id|StartStation Name|\n",
            "+---------+--------+-------+--------+-------------+---------------+----------+---------------+-----------------+\n",
            "|        0|       0|      0|       0|            0|              0|         0|              0|                0|\n",
            "+---------+--------+-------+--------+-------------+---------------+----------+---------------+-----------------+\n",
            "\n"
          ]
        }
      ],
      "source": [
        "#check again for null values\n",
        "null_counts = autumn_df.agg(*(sum(isnull(c).cast(\"int\")).alias(c) for c in autumn_df.columns))\n",
        "null_counts.show()"
      ]
    },
    {
      "cell_type": "code",
      "source": [
        "#check for number of rows after dropping null values\n",
        "numrows = autumn_df.count()\n",
        "print(\"there are \",numrows,\" rows\")"
      ],
      "metadata": {
        "id": "KIQdHkHnYDGN",
        "colab": {
          "base_uri": "https://localhost:8080/"
        },
        "outputId": "328cd53f-0538-4932-cd7c-273ce6b89e72"
      },
      "execution_count": null,
      "outputs": [
        {
          "output_type": "stream",
          "name": "stdout",
          "text": [
            "there are  1956811  rows\n"
          ]
        }
      ]
    },
    {
      "cell_type": "code",
      "execution_count": null,
      "metadata": {
        "id": "Po3-tqN1n6pa"
      },
      "outputs": [],
      "source": [
        "#take a subset of the data containing dates for spring\n",
        "spring_df = (spark.read.format(\"csv\")\n",
        "         .option(\"header\", \"true\")\n",
        "         .option(\"inferSchema\", \"true\")\n",
        "         .load(['./3*csv', './4*csv', './5*csv', './6*csv']))"
      ]
    },
    {
      "cell_type": "code",
      "execution_count": null,
      "metadata": {
        "colab": {
          "base_uri": "https://localhost:8080/"
        },
        "id": "ixgviMk0od2G",
        "outputId": "7bb32e50-862d-49a2-a8f7-2139f6a7ad99"
      },
      "outputs": [
        {
          "output_type": "stream",
          "name": "stdout",
          "text": [
            "there are  3146046  rows\n"
          ]
        }
      ],
      "source": [
        "#count the number of rows in the spring subset\n",
        "numrows = spring_df.count()\n",
        "print(\"there are \",numrows,\" rows\")"
      ]
    },
    {
      "cell_type": "code",
      "execution_count": null,
      "metadata": {
        "id": "AbTyQsw1o323"
      },
      "outputs": [],
      "source": [
        "#check for null values\n",
        "null_count = spring_df.agg(*(sum(isnull(c).cast(\"int\")).alias(c) for c in spring_df.columns))"
      ]
    },
    {
      "cell_type": "code",
      "execution_count": null,
      "metadata": {
        "id": "DQnDubMgpBsA",
        "colab": {
          "base_uri": "https://localhost:8080/"
        },
        "outputId": "b0697db9-fb11-49ae-8c43-4340c556f941"
      },
      "outputs": [
        {
          "output_type": "stream",
          "name": "stdout",
          "text": [
            "+---------+--------+-------+--------+-------------+---------------+----------+---------------+-----------------+-------+-------+-------+\n",
            "|Rental Id|Duration|Bike Id|End Date|EndStation Id|EndStation Name|Start Date|StartStation Id|StartStation Name|    _c9|   _c10|   _c11|\n",
            "+---------+--------+-------+--------+-------------+---------------+----------+---------------+-----------------+-------+-------+-------+\n",
            "|        0|       0|      0|       0|           28|             28|         0|              0|                0|3146046|3146046|3146046|\n",
            "+---------+--------+-------+--------+-------------+---------------+----------+---------------+-----------------+-------+-------+-------+\n",
            "\n"
          ]
        }
      ],
      "source": [
        "#show the rows containing null values\n",
        "null_count.show()"
      ]
    },
    {
      "cell_type": "code",
      "execution_count": null,
      "metadata": {
        "id": "7e_ipzLGpXtQ"
      },
      "outputs": [],
      "source": [
        "#drop the columns that are completely null\n",
        "spring_df = spring_df.drop('_c9', '_c10', '_c11')"
      ]
    },
    {
      "cell_type": "code",
      "execution_count": null,
      "metadata": {
        "id": "ZuRzCSCHp27N"
      },
      "outputs": [],
      "source": [
        "#drop the rows containing null values\n",
        "spring_df = spring_df.na.drop()"
      ]
    },
    {
      "cell_type": "code",
      "execution_count": null,
      "metadata": {
        "id": "ASp7FoJkqLpj",
        "colab": {
          "base_uri": "https://localhost:8080/"
        },
        "outputId": "fe4881f1-5c67-4989-b205-c60d78fca793"
      },
      "outputs": [
        {
          "output_type": "stream",
          "name": "stdout",
          "text": [
            "+---------+--------+-------+--------+-------------+---------------+----------+---------------+-----------------+\n",
            "|Rental Id|Duration|Bike Id|End Date|EndStation Id|EndStation Name|Start Date|StartStation Id|StartStation Name|\n",
            "+---------+--------+-------+--------+-------------+---------------+----------+---------------+-----------------+\n",
            "|        0|       0|      0|       0|            0|              0|         0|              0|                0|\n",
            "+---------+--------+-------+--------+-------------+---------------+----------+---------------+-----------------+\n",
            "\n"
          ]
        }
      ],
      "source": [
        "#check again for null values\n",
        "null_count = spring_df.agg(*(sum(isnull(c).cast(\"int\")).alias(c) for c in spring_df.columns))\n",
        "null_count.show()"
      ]
    },
    {
      "cell_type": "code",
      "source": [
        "#check for the number of rows in the spring subset after dropping null values\n",
        "numrows = spring_df.count()\n",
        "print(\"there are \",numrows,\" rows\")"
      ],
      "metadata": {
        "colab": {
          "base_uri": "https://localhost:8080/"
        },
        "id": "4Mmh95GWX1wd",
        "outputId": "a078e4be-9b20-4ac8-849b-34e5984e091a"
      },
      "execution_count": null,
      "outputs": [
        {
          "output_type": "stream",
          "name": "stdout",
          "text": [
            "there are  3146018  rows\n"
          ]
        }
      ]
    },
    {
      "cell_type": "code",
      "execution_count": null,
      "metadata": {
        "id": "MaEHSTVpqUoN",
        "colab": {
          "base_uri": "https://localhost:8080/"
        },
        "outputId": "9209188a-57f1-499a-82a6-0445c594547b"
      },
      "outputs": [
        {
          "output_type": "stream",
          "name": "stdout",
          "text": [
            "+---------+--------+-------+----------------+-------------+--------------------+----------------+---------------+--------------------+\n",
            "|Rental Id|Duration|Bike Id|        End Date|EndStation Id|     EndStation Name|      Start Date|StartStation Id|   StartStation Name|\n",
            "+---------+--------+-------+----------------+-------------+--------------------+----------------+---------------+--------------------+\n",
            "| 37875851|     120|   3229|28/09/2014 00:02|          450|Jubilee Street, S...|28/09/2014 00:00|            443|Philpot Street, W...|\n",
            "| 37875861|    1080|   3283|28/09/2014 00:18|          645|Great Suffolk Str...|28/09/2014 00:00|             14|Belgrove Street ,...|\n",
            "| 37875857|    2820|  11369|28/09/2014 00:47|          727|Chesilton Road, F...|28/09/2014 00:00|            321|Bermondsey Street...|\n",
            "| 37875849|    1620|  11362|28/09/2014 00:27|          719|Victoria Park Roa...|28/09/2014 00:00|            773|Tallis Street, Te...|\n",
            "| 37875847|     480|   7711|28/09/2014 00:08|          553|Regent's Row , Ha...|28/09/2014 00:00|            717|Dunston Road , Ha...|\n",
            "| 37875855|    1080|  11303|28/09/2014 00:18|          499|    Furze Green, Bow|28/09/2014 00:00|            282|Royal London Hosp...|\n",
            "| 37875850|    1380|  10895|28/09/2014 00:23|          505|  Ackroyd Drive, Bow|28/09/2014 00:00|            553|Regent's Row , Ha...|\n",
            "| 37875854|    3060|    530|28/09/2014 00:51|          272|Baylis Road, Wate...|28/09/2014 00:00|            284|Lambeth North Sta...|\n",
            "| 37875852|    3060|   9026|28/09/2014 00:51|          272|Baylis Road, Wate...|28/09/2014 00:00|            284|Lambeth North Sta...|\n",
            "| 37875859|    9600|    364|28/09/2014 02:40|          341|Craven Street, St...|28/09/2014 00:00|            273|Belvedere Road, S...|\n",
            "+---------+--------+-------+----------------+-------------+--------------------+----------------+---------------+--------------------+\n",
            "only showing top 10 rows\n",
            "\n"
          ]
        }
      ],
      "source": [
        "autumn_df.show(10)"
      ]
    },
    {
      "cell_type": "code",
      "execution_count": null,
      "metadata": {
        "id": "QMfUgm4yq9Vm",
        "colab": {
          "base_uri": "https://localhost:8080/"
        },
        "outputId": "8672a621-b166-4436-ef47-72b8a94f0c55"
      },
      "outputs": [
        {
          "output_type": "stream",
          "name": "stdout",
          "text": [
            "+---------+--------+-------+----------------+-------------+--------------------+----------------+---------------+--------------------+\n",
            "|Rental Id|Duration|Bike Id|        End Date|EndStation Id|     EndStation Name|      Start Date|StartStation Id|   StartStation Name|\n",
            "+---------+--------+-------+----------------+-------------+--------------------+----------------+---------------+--------------------+\n",
            "| 33253206|    1140|  11439|27/05/2014 00:59|          695|Islington Green, ...|27/05/2014 00:40|             81|Great Titchfield ...|\n",
            "| 33345935|     660|  10792|30/05/2014 18:00|          326|Graham Street, Angel|30/05/2014 17:49|            203|West Smithfield R...|\n",
            "| 33480171|    1440|  11901|03/06/2014 13:29|          695|Islington Green, ...|03/06/2014 13:05|            239|Warren Street Sta...|\n",
            "| 33709780|     960|   6891|09/06/2014 18:31|           20|Drummond Street ,...|09/06/2014 18:15|            695|Islington Green, ...|\n",
            "| 33794406|    1260|   6600|11/06/2014 19:58|          697|Charlotte Terrace...|11/06/2014 19:37|            311|Foley Street, Fit...|\n",
            "| 33932387|     300|   7166|15/06/2014 14:04|          184|Portland Place, M...|15/06/2014 13:59|            357|Howland Street, F...|\n",
            "| 34060370|    1140|   6177|19/06/2014 01:00|           93|Cloudesley Road, ...|19/06/2014 00:41|             81|Great Titchfield ...|\n",
            "| 33513244|     120|  10165|04/06/2014 16:40|          171|Collingham Garden...|04/06/2014 16:38|            216|Old Brompton Road...|\n",
            "| 33612824|    1860|   4382|07/06/2014 15:07|           95|Aldersgate Street...|07/06/2014 14:36|            430|South Parade, Che...|\n",
            "| 33506711|    1260|   4127|04/06/2014 10:33|          160|Waterloo Place, S...|04/06/2014 10:12|            430|South Parade, Che...|\n",
            "+---------+--------+-------+----------------+-------------+--------------------+----------------+---------------+--------------------+\n",
            "only showing top 10 rows\n",
            "\n"
          ]
        }
      ],
      "source": [
        "spring_df.show(10)"
      ]
    },
    {
      "cell_type": "code",
      "execution_count": null,
      "metadata": {
        "id": "DtMqR196sXRE",
        "colab": {
          "base_uri": "https://localhost:8080/"
        },
        "outputId": "30223f23-8a6d-433d-daa7-6734820605b3"
      },
      "outputs": [
        {
          "output_type": "stream",
          "name": "stdout",
          "text": [
            "+-------------+\n",
            "|min(Duration)|\n",
            "+-------------+\n",
            "|        -1200|\n",
            "+-------------+\n",
            "\n",
            "+------------------+\n",
            "|     avg(Duration)|\n",
            "+------------------+\n",
            "|1272.1295107192263|\n",
            "+------------------+\n",
            "\n",
            "+-------------+\n",
            "|max(Duration)|\n",
            "+-------------+\n",
            "|        99900|\n",
            "+-------------+\n",
            "\n",
            "+------------------+\n",
            "|skewness(Duration)|\n",
            "+------------------+\n",
            "| 91.42496894595844|\n",
            "+------------------+\n",
            "\n"
          ]
        }
      ],
      "source": [
        "#get the summary statistics of the autumn subset\n",
        "autumn_df.agg({\"Duration\": \"min\"}).show()\n",
        "autumn_df.agg({\"Duration\": \"mean\"}).show()\n",
        "autumn_df.agg({\"Duration\": \"max\"}).show()\n",
        "autumn_df.agg({\"Duration\": \"skewness\"}).show()"
      ]
    },
    {
      "cell_type": "code",
      "execution_count": null,
      "metadata": {
        "id": "BuSbylDSsJuq",
        "colab": {
          "base_uri": "https://localhost:8080/"
        },
        "outputId": "fc3eba23-6c68-4b69-94b6-f41d65404e4a"
      },
      "outputs": [
        {
          "output_type": "stream",
          "name": "stdout",
          "text": [
            "+-------------+\n",
            "|min(Duration)|\n",
            "+-------------+\n",
            "|            0|\n",
            "+-------------+\n",
            "\n",
            "+------------------+\n",
            "|     avg(Duration)|\n",
            "+------------------+\n",
            "|1518.1006148089425|\n",
            "+------------------+\n",
            "\n",
            "+-------------+\n",
            "|max(Duration)|\n",
            "+-------------+\n",
            "|        99900|\n",
            "+-------------+\n",
            "\n",
            "+------------------+\n",
            "|skewness(Duration)|\n",
            "+------------------+\n",
            "| 81.83285242301945|\n",
            "+------------------+\n",
            "\n"
          ]
        }
      ],
      "source": [
        "#get the summary statistics of the spring subset\n",
        "spring_df.agg({\"Duration\": \"min\"}).show()\n",
        "spring_df.agg({\"Duration\": \"mean\"}).show()\n",
        "spring_df.agg({\"Duration\": \"max\"}).show()\n",
        "spring_df.agg({\"Duration\": \"skewness\"}).show()"
      ]
    },
    {
      "cell_type": "code",
      "execution_count": null,
      "metadata": {
        "id": "PKLb7-_4LcF3",
        "colab": {
          "base_uri": "https://localhost:8080/"
        },
        "outputId": "79d3cd91-458b-4800-e30b-a060db31d74c"
      },
      "outputs": [
        {
          "output_type": "stream",
          "name": "stdout",
          "text": [
            "there are  1956811  rows\n"
          ]
        }
      ],
      "source": [
        "numrows = autumn_df.count()\n",
        "print(\"there are \",numrows,\" rows\")"
      ]
    },
    {
      "cell_type": "code",
      "execution_count": null,
      "metadata": {
        "id": "I52mN-uxLwoO",
        "colab": {
          "base_uri": "https://localhost:8080/"
        },
        "outputId": "095126a7-e711-4825-c7bf-7ad42d022c1f"
      },
      "outputs": [
        {
          "output_type": "stream",
          "name": "stdout",
          "text": [
            "there are  3146018  rows\n"
          ]
        }
      ],
      "source": [
        "numrows = spring_df.count()\n",
        "print(\"there are \",numrows,\" rows\")"
      ]
    },
    {
      "cell_type": "code",
      "execution_count": null,
      "metadata": {
        "id": "2Oxv2S7fMPMw"
      },
      "outputs": [],
      "source": [
        "#convert the duration column to integer datatype\n",
        "autumn_df =  autumn_df.withColumn(\"Duration\", col(\"Duration\"). cast(\"int\"));\n"
      ]
    },
    {
      "cell_type": "code",
      "execution_count": null,
      "metadata": {
        "id": "egr7vBuQMcxn"
      },
      "outputs": [],
      "source": [
        "#change the timestamp of the start date column\n",
        "autumn_df = autumn_df.withColumn(\"Start Date\", to_timestamp(\"Start Date\", \"dd/MM/yyyy HH:mm\"))"
      ]
    },
    {
      "cell_type": "code",
      "execution_count": null,
      "metadata": {
        "id": "AqO8plZ6MirO"
      },
      "outputs": [],
      "source": [
        "#change the timestamp of the end date column\n",
        "autumn_df = autumn_df.withColumn(\"End Date\", to_timestamp(\"End Date\", \"dd/MM/yyyy HH:mm\"))"
      ]
    },
    {
      "cell_type": "code",
      "execution_count": null,
      "metadata": {
        "id": "PkN89p7BMmZX"
      },
      "outputs": [],
      "source": [
        "#filter the autumn dataset with the concerned dates\n",
        "autumn_df = autumn_df.select(\n",
        "    \"Rental Id\", \"Duration\", \"Bike Id\", \"Start Date\", \"StartStation Id\", \"StartStation Name\", \"End Date\", \"EndStation Id\", \n",
        "    \"EndStation Name\").where(col(\"Start Date\").between(\"2014-09-23 00:00:00\", \"2014-12-21 23:59:59\")\n",
        "    )"
      ]
    },
    {
      "cell_type": "code",
      "execution_count": null,
      "metadata": {
        "id": "48dynIieMxu2"
      },
      "outputs": [],
      "source": [
        "#change the datatype of the duration column of the spring subset to integer\n",
        "spring_df =  spring_df.withColumn(\"Duration\", col(\"Duration\"). cast(\"int\"));"
      ]
    },
    {
      "cell_type": "code",
      "execution_count": null,
      "metadata": {
        "id": "r-5JPiEBNCCO"
      },
      "outputs": [],
      "source": [
        "#change the timestamp of the start date column\n",
        "spring_df = spring_df.withColumn(\"Start Date\", to_timestamp(\"Start Date\", \"dd/MM/yyyy HH:mm\"))"
      ]
    },
    {
      "cell_type": "code",
      "execution_count": null,
      "metadata": {
        "id": "yDLp5Rw4NNFV"
      },
      "outputs": [],
      "source": [
        "#change the timestamp of the end date column\n",
        "spring_df = spring_df.withColumn(\"End Date\", to_timestamp(\"End Date\", \"dd/MM/yyyy HH:mm\"))"
      ]
    },
    {
      "cell_type": "code",
      "execution_count": null,
      "metadata": {
        "id": "b4bpLmigNSUt"
      },
      "outputs": [],
      "source": [
        "#filter the spring subset according to date\n",
        "spring_df = spring_df.select(\n",
        "    \"Rental Id\", \"Duration\", \"Bike Id\", \"Start Date\", \"StartStation Id\", \"StartStation Name\", \"End Date\", \"EndStation Id\", \n",
        "    \"EndStation Name\").where(col(\"Start Date\").between(\"2014-03-20 00:00:00\", \"2014-06-21 23:59:59\")\n",
        "    )"
      ]
    },
    {
      "cell_type": "code",
      "execution_count": null,
      "metadata": {
        "id": "QsAxIJmLN3Si",
        "colab": {
          "base_uri": "https://localhost:8080/"
        },
        "outputId": "fa8f05c8-0ef6-4c23-9791-345380b2eb71"
      },
      "outputs": [
        {
          "output_type": "stream",
          "name": "stdout",
          "text": [
            "-3360\n",
            "1222.1108199997564\n",
            "2460120\n",
            "95.31719924925305\n",
            "12966.923829957674\n"
          ]
        }
      ],
      "source": [
        "#get the summary statistics of the cleaned autumn dataset\n",
        "min_autumn = autumn_df.agg({\"Duration\": \"min\"}).first()[0]\n",
        "mean_autumn = autumn_df.agg({\"Duration\": \"mean\"}).first()[0]\n",
        "max_autumn = autumn_df.agg({\"Duration\": \"max\"}).first()[0]\n",
        "skewness_autumn = autumn_df.agg({\"Duration\": \"skewness\"}).first()[0]\n",
        "stddev_autumn = autumn_df.agg({\"Duration\": \"stddev\"}).first()[0]\n",
        "\n",
        "print(min_autumn)\n",
        "print(mean_autumn)\n",
        "print(max_autumn)\n",
        "print(skewness_autumn)\n",
        "print(stddev_autumn)"
      ]
    },
    {
      "cell_type": "code",
      "execution_count": null,
      "metadata": {
        "id": "8BhpPYnvPIfh",
        "colab": {
          "base_uri": "https://localhost:8080/"
        },
        "outputId": "047cf92b-673f-4670-f372-4e3c143bf87f"
      },
      "outputs": [
        {
          "output_type": "stream",
          "name": "stdout",
          "text": [
            "0\n",
            "1522.089246779652\n",
            "2564700\n",
            "82.8121752762892\n",
            "12419.89754039535\n"
          ]
        }
      ],
      "source": [
        "#get the summary statistics for the spring dataset\n",
        "min_spring = spring_df.agg({\"Duration\": \"min\"}).first()[0]\n",
        "mean_spring = spring_df.agg({\"Duration\": \"mean\"}).first()[0]\n",
        "max_spring = spring_df.agg({\"Duration\": \"max\"}).first()[0]\n",
        "skewness_spring = spring_df.agg({\"Duration\": \"skewness\"}).first()[0]\n",
        "stddev_spring = spring_df.agg({\"Duration\": \"stddev\"}).first()[0]\n",
        "\n",
        "print(min_spring)\n",
        "print(mean_spring)\n",
        "print(max_spring)\n",
        "print(skewness_spring)\n",
        "print(stddev_spring)"
      ]
    },
    {
      "cell_type": "code",
      "execution_count": null,
      "metadata": {
        "id": "a_tBm_J9PRJm",
        "colab": {
          "base_uri": "https://localhost:8080/"
        },
        "outputId": "bee796f2-6306-4684-bf92-32a85d7ef13a"
      },
      "outputs": [
        {
          "output_type": "stream",
          "name": "stdout",
          "text": [
            "26\n"
          ]
        }
      ],
      "source": [
        "#select rows in autumn dataset which have a duration of less than zero\n",
        "selected_row = autumn_df.filter(autumn_df.Duration < 0).count()\n",
        "print(selected_row)"
      ]
    },
    {
      "cell_type": "code",
      "execution_count": null,
      "metadata": {
        "id": "rTTlzDDiV9K8",
        "colab": {
          "base_uri": "https://localhost:8080/"
        },
        "outputId": "ee1fde89-4468-456e-efb1-0ee5fa9eb6be"
      },
      "outputs": [
        {
          "output_type": "stream",
          "name": "stdout",
          "text": [
            "+---------+--------+-------+-------------------+---------------+--------------------+-------------------+-------------+--------------------+\n",
            "|Rental Id|Duration|Bike Id|         Start Date|StartStation Id|   StartStation Name|           End Date|EndStation Id|     EndStation Name|\n",
            "+---------+--------+-------+-------------------+---------------+--------------------+-------------------+-------------+--------------------+\n",
            "| 38748858|   -2340|  11733|2014-10-26 01:40:00|             64|William IV Street...|2014-10-26 01:01:00|          489|Christian Street,...|\n",
            "| 38748947|   -2820|  10942|2014-10-26 01:52:00|            755|   The Vale, Chelsea|2014-10-26 01:05:00|          291|Claverton Street,...|\n",
            "| 38748893|   -2160|   9949|2014-10-26 01:44:00|             17|Hatton Wall, Holborn|2014-10-26 01:08:00|          470|   Mostyn Grove, Bow|\n",
            "| 38748965|   -3360|   7268|2014-10-26 01:56:00|            239|Warren Street Sta...|2014-10-26 01:00:00|          540|Albany Street, Re...|\n",
            "| 38748746|   -1500|   1745|2014-10-26 01:32:00|            146|Vauxhall Bridge ,...|2014-10-26 01:07:00|          203|West Smithfield R...|\n",
            "| 38748978|   -3120|   8365|2014-10-26 01:58:00|            213|Wellington Arch, ...|2014-10-26 01:06:00|          148|Tachbrook Street,...|\n",
            "| 38748940|   -3060|   3280|2014-10-26 01:51:00|            386|   Moor Street, Soho|2014-10-26 01:00:00|          262|LSBU (Borough Roa...|\n",
            "| 38748944|   -3000|   4388|2014-10-26 01:52:00|            200|LMU Commercial Ro...|2014-10-26 01:02:00|          461|Aston Street, Ste...|\n",
            "| 38748987|   -2460|   5593|2014-10-26 01:59:00|            433|Wren Street, Holborn|2014-10-26 01:18:00|          489|Christian Street,...|\n",
            "| 38748950|   -3060|   1600|2014-10-26 01:53:00|            737|Fulham Broadway, ...|2014-10-26 01:02:00|          231|Queen's Gate (Cen...|\n",
            "| 38748836|   -1980|   6294|2014-10-26 01:39:00|            229|Whitehall Place, ...|2014-10-26 01:06:00|          625|Queen's Circus, B...|\n",
            "| 38748790|   -1740|   9996|2014-10-26 01:37:00|             14|Belgrove Street ,...|2014-10-26 01:08:00|          500|Sidney Street, St...|\n",
            "| 38748834|    -720|  12194|2014-10-26 01:39:00|            200|LMU Commercial Ro...|2014-10-26 01:27:00|          535|Gloucester Avenue...|\n",
            "| 38748971|   -3180|    119|2014-10-26 01:56:00|            295|Swan Street, The ...|2014-10-26 01:03:00|           10|Park Street, Bank...|\n",
            "| 38748948|   -2640|   3490|2014-10-26 01:52:00|            213|Wellington Arch, ...|2014-10-26 01:08:00|          144|Kennington Cross,...|\n",
            "| 38748936|   -2880|  10002|2014-10-26 01:50:00|            254|Chadwell Street, ...|2014-10-26 01:02:00|          229|Whitehall Place, ...|\n",
            "| 38748986|   -1320|   3825|2014-10-26 01:59:00|            433|Wren Street, Holborn|2014-10-26 01:37:00|          443|Philpot Street, W...|\n",
            "| 38748908|   -2280|   1892|2014-10-26 01:45:00|            425|Harrington Square...|2014-10-26 01:07:00|          111|Park Lane , Hyde ...|\n",
            "| 38748957|   -2340|  12417|2014-10-26 01:54:00|            695|Islington Green, ...|2014-10-26 01:15:00|          237|Vaughan Way, Wapping|\n",
            "| 38748923|   -2700|  10048|2014-10-26 01:47:00|            325|St. Martin's Stre...|2014-10-26 01:02:00|          152|Hampton Street, W...|\n",
            "| 38748970|   -2820|   6529|2014-10-26 01:56:00|            401|Columbia Road, We...|2014-10-26 01:09:00|           39|Shoreditch High S...|\n",
            "| 38748913|   -2580|    560|2014-10-26 01:46:00|            374|Waterloo Station ...|2014-10-26 01:03:00|          125|Borough High Stre...|\n",
            "| 38748942|   -3120|   3617|2014-10-26 01:52:00|            393|Snow Hill, Farrin...|2014-10-26 01:00:00|           26|Ampton Street , C...|\n",
            "| 38748966|   -1860|  12689|2014-10-26 01:56:00|            537|Old Montague Stre...|2014-10-26 01:25:00|          301|Marylebone Lane, ...|\n",
            "| 38748802|   -1200|   2445|2014-10-26 01:37:00|            425|Harrington Square...|2014-10-26 01:17:00|           96|Falkirk Street, H...|\n",
            "| 38748839|   -2160|  11071|2014-10-26 01:39:00|            217|Wormwood Street, ...|2014-10-26 01:03:00|          117|Lollard Street, V...|\n",
            "+---------+--------+-------+-------------------+---------------+--------------------+-------------------+-------------+--------------------+\n",
            "\n",
            "None\n"
          ]
        }
      ],
      "source": [
        "#show selected rows\n",
        "selected_row = autumn_df.filter(autumn_df.Duration < 0).show(26)\n",
        "print(selected_row)"
      ]
    },
    {
      "cell_type": "code",
      "execution_count": null,
      "metadata": {
        "id": "O63kTDLCUmfX"
      },
      "outputs": [],
      "source": [
        "#remove rows with duration less than 0\n",
        "autumn_df = autumn_df.filter(\"Duration >= 0\")"
      ]
    },
    {
      "cell_type": "code",
      "execution_count": null,
      "metadata": {
        "id": "rCuzicikWUYm",
        "colab": {
          "base_uri": "https://localhost:8080/"
        },
        "outputId": "53bf62e0-7cee-43ad-be6f-85190388c62a"
      },
      "outputs": [
        {
          "output_type": "stream",
          "name": "stdout",
          "text": [
            "0\n"
          ]
        }
      ],
      "source": [
        "selected_row = autumn_df.filter(autumn_df.Duration < 0).count()\n",
        "print(selected_row)"
      ]
    },
    {
      "cell_type": "code",
      "source": [
        "#Calculate the lower and upper bounds for the autumn dataset based on mean and standard deviation,\n",
        "#calculate the lower bounds by subtracting 3 times the standard deviation from the mean\n",
        "#calculate the upper bounds by adding 3 times the standard deviation to the mean\n",
        "lower_bound_autumn = mean_autumn - 3 * stddev_autumn\n",
        "upper_bound_autumn = mean_autumn + 3 * stddev_autumn"
      ],
      "metadata": {
        "id": "GRQ74ciXqGu6"
      },
      "execution_count": null,
      "outputs": []
    },
    {
      "cell_type": "code",
      "source": [
        "#select the rows where the duration falls within the lower and upper bounds using the filter function\n",
        "filtered_autumn = autumn_df.filter(col(\"Duration\").between(lower_bound_autumn, upper_bound_autumn))"
      ],
      "metadata": {
        "id": "uW47BppNuvDO"
      },
      "execution_count": null,
      "outputs": []
    },
    {
      "cell_type": "code",
      "source": [
        "#Calculate the lower and upper bounds for the spring dataset based on mean and standard deviation,\n",
        "#calculate the lower bounds by subtracting 3 times the standard deviation from the mean\n",
        "#calculate the upper bounds by adding 3 times the standard deviation to the mean\n",
        "lower_bound_spring = mean_spring - 3 * stddev_spring\n",
        "upper_bound_spring = mean_spring + 3 * stddev_spring"
      ],
      "metadata": {
        "id": "kZGVhLNpt2J8"
      },
      "execution_count": null,
      "outputs": []
    },
    {
      "cell_type": "code",
      "source": [
        "#select the rows where the duration falls within the lower and upper bounds using the filter function\n",
        "filtered_spring = spring_df.filter(col(\"Duration\").between(lower_bound_spring, upper_bound_spring))"
      ],
      "metadata": {
        "id": "RStoQwxo0svw"
      },
      "execution_count": null,
      "outputs": []
    },
    {
      "cell_type": "code",
      "source": [
        "#calculate the total duration of the bike rides in autumn\n",
        "total_duration_autumn = filtered_autumn.select(sum(\"Duration\")).first()[0]\n",
        "print(\"Total duration of the bike rides dataset:\", total_duration_autumn)"
      ],
      "metadata": {
        "id": "AcBuh2qh04cn",
        "colab": {
          "base_uri": "https://localhost:8080/"
        },
        "outputId": "540506d4-f271-4473-fac8-fbf9bd5aec32"
      },
      "execution_count": null,
      "outputs": [
        {
          "output_type": "stream",
          "name": "stdout",
          "text": [
            "Total duration of the bike rides dataset: 1588750500\n"
          ]
        }
      ]
    },
    {
      "cell_type": "code",
      "source": [
        "#calculate the summary statistics after removing outliers, noise and missing values\n",
        "min_autumn = filtered_autumn.agg({\"Duration\": \"min\"}).first()[0]\n",
        "mean_autumn = filtered_autumn.agg({\"Duration\": \"mean\"}).first()[0]\n",
        "max_autumn = filtered_autumn.agg({\"Duration\": \"max\"}).first()[0]\n",
        "skewness_autumn = filtered_autumn.agg({\"Duration\": \"skewness\"}).first()[0]\n",
        "stddev_autumn = filtered_autumn.agg({\"Duration\": \"stddev\"}).first()[0]\n",
        "\n",
        "print(min_autumn)\n",
        "print(mean_autumn)\n",
        "print(max_autumn)\n",
        "print(skewness_autumn)\n",
        "print(stddev_autumn)"
      ],
      "metadata": {
        "colab": {
          "base_uri": "https://localhost:8080/"
        },
        "id": "p3Irw30JPEAE",
        "outputId": "99a72a8b-c3c7-45ba-c2e7-eff0f78e3182"
      },
      "execution_count": null,
      "outputs": [
        {
          "output_type": "stream",
          "name": "stdout",
          "text": [
            "0\n",
            "969.3656156133253\n",
            "40080\n",
            "12.148947869660937\n",
            "1272.2124089099023\n"
          ]
        }
      ]
    },
    {
      "cell_type": "code",
      "source": [
        "#calculate the total duration of bike rides in spring\n",
        "total_duration_spring = filtered_spring.select(sum(\"Duration\")).first()[0]\n",
        "print(\"Total duration of the bike rides dataset:\", total_duration_spring)"
      ],
      "metadata": {
        "colab": {
          "base_uri": "https://localhost:8080/"
        },
        "id": "y8itVn3J2HHz",
        "outputId": "d3a86dc2-c3d1-4a86-a183-e60e1b997896"
      },
      "execution_count": null,
      "outputs": [
        {
          "output_type": "stream",
          "name": "stdout",
          "text": [
            "Total duration of the bike rides dataset: 3267966120\n"
          ]
        }
      ]
    },
    {
      "cell_type": "code",
      "source": [
        "#calculate the summary statistics of the spring subset after removing noise, outliers and missing values\n",
        "min_spring = filtered_spring.agg({\"Duration\": \"min\"}).first()[0]\n",
        "mean_spring = filtered_spring.agg({\"Duration\": \"mean\"}).first()[0]\n",
        "max_spring = filtered_spring.agg({\"Duration\": \"max\"}).first()[0]\n",
        "skewness_spring = filtered_spring.agg({\"Duration\": \"skewness\"}).first()[0]\n",
        "stddev_spring = filtered_spring.agg({\"Duration\": \"stddev\"}).first()[0]\n",
        "\n",
        "print(min_spring)\n",
        "print(mean_spring)\n",
        "print(max_spring)\n",
        "print(skewness_spring)\n",
        "print(stddev_spring)"
      ],
      "metadata": {
        "colab": {
          "base_uri": "https://localhost:8080/"
        },
        "id": "xkkHeG8oQset",
        "outputId": "9581e636-b5cf-44b3-cf6f-662a688c6bd0"
      },
      "execution_count": null,
      "outputs": [
        {
          "output_type": "stream",
          "name": "stdout",
          "text": [
            "0\n",
            "1216.7162914341243\n",
            "38760\n",
            "8.356229523987022\n",
            "1687.6104225589493\n"
          ]
        }
      ]
    },
    {
      "cell_type": "code",
      "source": [
        "#visualize the total duration of bike rides in autumn and spring\n",
        "import matplotlib.pyplot as plt\n",
        "import seaborn as sns\n",
        "\n",
        "sns.barplot(x = ['filtered_spring', 'filtered_autumn'], y = [total_duration_spring, total_duration_autumn])\n",
        "plt.title('Durations per season')\n",
        "plt.xlabel('Seasons')\n",
        "plt.ylabel('Duration')\n",
        "plt.show()\n"
      ],
      "metadata": {
        "id": "lSq5TRHq2NkY",
        "colab": {
          "base_uri": "https://localhost:8080/",
          "height": 472
        },
        "outputId": "a1608cae-3848-4459-ebf4-c1f84518cce7"
      },
      "execution_count": null,
      "outputs": [
        {
          "output_type": "display_data",
          "data": {
            "text/plain": [
              "<Figure size 640x480 with 1 Axes>"
            ],
            "image/png": "[encoded data removed]"
          },
          "metadata": {}
        }
      ]
    },
    {
      "cell_type": "code",
      "source": [
        "spring_count = filtered_spring.count()\n",
        "autumn_count = filtered_autumn.count()"
      ],
      "metadata": {
        "id": "3szB4o-z9HFt"
      },
      "execution_count": null,
      "outputs": []
    },
    {
      "cell_type": "code",
      "source": [
        "#visualize the comparison between the count of bike rides in autumn and spring\n",
        "sns.barplot(x = ['filtered_spring', 'filtered_autumn'], y = [spring_count, autumn_count])\n",
        "plt.title('Counts of bike rides per season')\n",
        "plt.xlabel('Seasons')\n",
        "plt.ylabel('Duration')\n",
        "plt.show()"
      ],
      "metadata": {
        "id": "7ENfLxZf9bNN",
        "colab": {
          "base_uri": "https://localhost:8080/",
          "height": 472
        },
        "outputId": "9d069a31-e31c-4719-f4ce-a338e234da08"
      },
      "execution_count": null,
      "outputs": [
        {
          "output_type": "display_data",
          "data": {
            "text/plain": [
              "<Figure size 640x480 with 1 Axes>"
            ],
            "image/png": "[encoded data removed]"
          },
          "metadata": {}
        }
      ]
    },
    {
      "cell_type": "code",
      "source": [
        "#Perform 2-sample t-test on the durations of autumn and spring rides\n",
        "from scipy.stats import ttest_ind\n",
        "\n",
        "#Extract the durations of autumn and spring rides into separate lists\n",
        "autumn_duration = filtered_autumn.select(\"Duration\").rdd.flatMap(lambda x: x).collect()\n",
        "spring_duration = filtered_spring.select(\"Duration\").rdd.flatMap(lambda x: x).collect()\n",
        "\n",
        "#Perform the 2-sample t-test on the durations of spring and autumn\n",
        "ttest_result = ttest_ind(autumn_duration, spring_duration, equal_var = False)\n",
        "\n",
        "#Check if the p-value is less than 0.05 to determine the statistical significance\n",
        "if ttest_result.pvalue < 0.05:\n",
        "    print(\"The difference in mean durations between autumn and spring is statistically significant.\")\n",
        "else:\n",
        "    print(\"The difference in mean durations between autumn and spring is not statistically significant.\")\n",
        "print(\"t-test result: \", ttest_result.statistic)\n",
        "print(\"p-value: \", ttest_result.pvalue)"
      ],
      "metadata": {
        "colab": {
          "base_uri": "https://localhost:8080/"
        },
        "id": "nAS4exB09n7p",
        "outputId": "019d5351-a69a-4a71-f473-bdaa2c8b6a6d"
      },
      "execution_count": null,
      "outputs": [
        {
          "output_type": "stream",
          "name": "stdout",
          "text": [
            "The difference in mean durations between autumn and spring is statistically significant.\n",
            "t-test result:  -172.84580537126723\n",
            "p-value:  0.0\n"
          ]
        }
      ]
    },
    {
      "cell_type": "code",
      "source": [
        "#concatenate the autumn and spring dataframes into a new dataframe called autumn_spring_df\n",
        "autumn_spring_df = filtered_autumn.union(filtered_spring)\n",
        "print(\"mix: \",autumn_spring_df.count())"
      ],
      "metadata": {
        "colab": {
          "base_uri": "https://localhost:8080/"
        },
        "id": "V498pgEAQrr8",
        "outputId": "b87da67d-2831-4599-a6a1-14c7df6a9c87"
      },
      "execution_count": null,
      "outputs": [
        {
          "output_type": "stream",
          "name": "stdout",
          "text": [
            "mix:  4324849\n"
          ]
        }
      ]
    },
    {
      "cell_type": "code",
      "source": [
        "from google.colab import drive\n",
        "drive.mount('/content/drive')"
      ],
      "metadata": {
        "id": "tbyOflTsicEM"
      },
      "execution_count": null,
      "outputs": []
    },
    {
      "cell_type": "code",
      "source": [
        "#import 2nd dataset\n",
        "file2 = '/content/drive/MyDrive/03672099999.csv'\n",
        "spark = SparkSession.builder.appName(\"bikes\").getOrCreate()\n",
        "weather_df = (spark.read.format(\"csv\")\n",
        "         .option(\"header\", \"true\")\n",
        "         .option(\"inferSchema\", \"true\")\n",
        "         .load(file2))"
      ],
      "metadata": {
        "id": "2eFw1ObLqWEK"
      },
      "execution_count": null,
      "outputs": []
    },
    {
      "cell_type": "code",
      "source": [
        "#count number of rows in dataset\n",
        "numRows = weather_df.count()\n",
        "print(\"there are \",numRows,\" rows\")"
      ],
      "metadata": {
        "id": "vGiXsxlDq3cH"
      },
      "execution_count": null,
      "outputs": []
    },
    {
      "cell_type": "code",
      "source": [
        "weather_df.show(10)"
      ],
      "metadata": {
        "id": "X44rouJRrARN"
      },
      "execution_count": null,
      "outputs": []
    },
    {
      "cell_type": "code",
      "source": [
        "#convert the Date column to a timestamp format\n",
        "weather_df = weather_df.withColumn(\"DATE\", to_timestamp(\"DATE\", \"dd/MM/yyyy HH:mm\"))"
      ],
      "metadata": {
        "id": "g5UNqEMVwvFW"
      },
      "execution_count": null,
      "outputs": []
    },
    {
      "cell_type": "code",
      "source": [
        "#check for null values\n",
        "from pyspark.sql.functions import isnan, isnull\n",
        "null_counts = weather_df.agg(*(sum(isnull(c).cast(\"int\")).alias(c) for c in weather_df.columns))"
      ],
      "metadata": {
        "id": "7BzZ2tcaKtUZ"
      },
      "execution_count": null,
      "outputs": []
    },
    {
      "cell_type": "code",
      "source": [
        "null_counts.show()"
      ],
      "metadata": {
        "id": "D9OLqMZtLKqb"
      },
      "execution_count": null,
      "outputs": []
    },
    {
      "cell_type": "code",
      "source": [
        "#create an autumn subset by selecting columns of interest in autumn using dates as a filter\n",
        "autumn_weather = weather_df.select(\n",
        "    \"DATE\", \"LATITUDE\", \"LONGITUDE\", \"ELEVATION\", \"NAME\", \"TEMP\", \"TEMP_ATTRIBUTES\", \"DEWP\", \"DEWP_ATTRIBUTES\", \"SLP\", \"SLP_ATTRIBUTES\", \"STP\", \n",
        "    \"STP_ATTRIBUTES\", \"VISIB\", \"VISIB_ATTRIBUTES\", \"WDSP\", \"WDSP_ATTRIBUTES\", \"MXSPD\", \"GUST\",\n",
        "    \"MAX\", \"MAX_ATTRIBUTES\", \"PRCP\", \"PRCP_ATTRIBUTES\", \"SNDP\", \"FRSHTT\").where(col(\"DATE\").between(\"2014-09-23 00:00:00\", \"2014-12-21 23:59:59\")\n",
        "    )"
      ],
      "metadata": {
        "id": "D4_eTAI9zTx_"
      },
      "execution_count": null,
      "outputs": []
    },
    {
      "cell_type": "code",
      "source": [
        "#count the number of rows in the autumn subset\n",
        "numRows = autumn_weather.count()\n",
        "print(\"there are \",numRows,\" rows\")"
      ],
      "metadata": {
        "id": "zLRFygCl06L8"
      },
      "execution_count": null,
      "outputs": []
    },
    {
      "cell_type": "code",
      "source": [
        "#create an spring subset by selecting columns of interest in autumn using dates as a filter\n",
        "spring_weather = weather_df.select(\n",
        "    \"DATE\", \"LATITUDE\", \"LONGITUDE\", \"ELEVATION\", \"NAME\", \"TEMP\", \"TEMP_ATTRIBUTES\", \"DEWP\", \"DEWP_ATTRIBUTES\", \"SLP\", \"SLP_ATTRIBUTES\", \"STP\", \n",
        "    \"STP_ATTRIBUTES\", \"VISIB\", \"VISIB_ATTRIBUTES\", \"WDSP\", \"WDSP_ATTRIBUTES\", \"MXSPD\", \"GUST\",\n",
        "    \"MAX\", \"MAX_ATTRIBUTES\", \"PRCP\", \"PRCP_ATTRIBUTES\", \"SNDP\", \"FRSHTT\").where(col(\"DATE\").between(\"2014-03-20 00:00:00\", \"2014-06-21 23:59:59\")\n",
        "    )"
      ],
      "metadata": {
        "id": "2oI8Yy_X0zcc"
      },
      "execution_count": null,
      "outputs": []
    },
    {
      "cell_type": "code",
      "source": [
        "#count the number of rows in the spring subset\n",
        "numRows = spring_weather.count()\n",
        "print(\"there are \",numRows,\" rows\")"
      ],
      "metadata": {
        "id": "242waKwk1JmA"
      },
      "execution_count": null,
      "outputs": []
    },
    {
      "cell_type": "code",
      "source": [
        "#calculate the summary statistics of the temperature column in the autumn subset\n",
        "min_autumn_weather = autumn_weather.agg({\"TEMP\": \"min\"}).first()[0]\n",
        "mean_autumn_weather = autumn_weather.agg({\"TEMP\": \"mean\"}).first()[0]\n",
        "max_autumn_weather = autumn_weather.agg({\"TEMP\": \"max\"}).first()[0]\n",
        "skewness_autumn_weather = autumn_weather.agg({\"TEMP\": \"skewness\"}).first()[0]\n",
        "stddev_autumn_weather = autumn_weather.agg({\"TEMP\": \"stddev\"}).first()[0]\n",
        "\n",
        "print(min_autumn_weather)\n",
        "print(mean_autumn_weather)\n",
        "print(max_autumn_weather)\n",
        "print(skewness_autumn_weather)\n",
        "print(stddev_autumn_weather)"
      ],
      "metadata": {
        "id": "b-9ix9Cp1OY3"
      },
      "execution_count": null,
      "outputs": []
    },
    {
      "cell_type": "code",
      "source": [
        "#calculate the summary statistics of the temperature column in the spring subset\n",
        "min_spring_weather = spring_weather.agg({\"TEMP\": \"min\"}).first()[0]\n",
        "mean_spring_weather = spring_weather.agg({\"TEMP\": \"mean\"}).first()[0]\n",
        "max_spring_weather = spring_weather.agg({\"TEMP\": \"max\"}).first()[0]\n",
        "skewness_spring_weather = spring_weather.agg({\"TEMP\": \"skewness\"}).first()[0]\n",
        "stddev_spring_weather = spring_weather.agg({\"TEMP\": \"stddev\"}).first()[0]\n",
        "\n",
        "print(min_spring_weather)\n",
        "print(mean_spring_weather)\n",
        "print(max_spring_weather)\n",
        "print(skewness_spring_weather)\n",
        "print(stddev_spring_weather)"
      ],
      "metadata": {
        "id": "J7b3mv3014QJ"
      },
      "execution_count": null,
      "outputs": []
    },
    {
      "cell_type": "code",
      "source": [
        "total_autumn_temp = autumn_weather.select(mean(\"TEMP\")).first()[0]"
      ],
      "metadata": {
        "id": "hKN_7H8S8Z7A"
      },
      "execution_count": null,
      "outputs": []
    },
    {
      "cell_type": "code",
      "source": [
        "total_spring_temp = spring_weather.select(mean(\"TEMP\")).first()[0]"
      ],
      "metadata": {
        "id": "LlbTbO_i8jQj"
      },
      "execution_count": null,
      "outputs": []
    },
    {
      "cell_type": "code",
      "source": [
        "#plot a barplot comparing the mean temperature of autumn and spring\n",
        "import matplotlib.pyplot as plt\n",
        "import seaborn as sns\n",
        "\n",
        "sns.barplot(x = ['autumn_temperature', 'spring_temperature'], y = [total_autumn_temp, total_spring_temp])\n",
        "plt.title('Temperature per season')\n",
        "plt.xlabel('Seasons')\n",
        "plt.ylabel('Temperature')\n",
        "plt.show()"
      ],
      "metadata": {
        "id": "JIsa98hm3F1C"
      },
      "execution_count": null,
      "outputs": []
    },
    {
      "cell_type": "code",
      "source": [
        "total_autumn_prcp = autumn_weather.select(mean(\"PRCP\")).first()[0]"
      ],
      "metadata": {
        "id": "JUpvIjsJ820I"
      },
      "execution_count": null,
      "outputs": []
    },
    {
      "cell_type": "code",
      "source": [
        "total_spring_prcp = spring_weather.select(mean(\"PRCP\")).first()[0]"
      ],
      "metadata": {
        "id": "DF2ZjtVT9T_C"
      },
      "execution_count": null,
      "outputs": []
    },
    {
      "cell_type": "code",
      "source": [
        "#plot a barplot comparing the mean precipitation of autumn and spring\n",
        "sns.barplot(x = ['autumn_precipitation', 'spring_precipitation'], y = [total_autumn_prcp, total_spring_prcp])\n",
        "plt.title('Precipitation per season')\n",
        "plt.xlabel('Seasons')\n",
        "plt.ylabel('Precipitation')\n",
        "plt.show()"
      ],
      "metadata": {
        "id": "EsT7nV1N9aQg"
      },
      "execution_count": null,
      "outputs": []
    },
    {
      "cell_type": "code",
      "source": [
        "total_autumn_wdsp = autumn_weather.select(mean(\"WDSP\")).first()[0]"
      ],
      "metadata": {
        "id": "iebsAm8I9ihx"
      },
      "execution_count": null,
      "outputs": []
    },
    {
      "cell_type": "code",
      "source": [
        "total_spring_wdsp = spring_weather.select(mean(\"WDSP\")).first()[0]"
      ],
      "metadata": {
        "id": "weaBLLu592JF"
      },
      "execution_count": null,
      "outputs": []
    },
    {
      "cell_type": "code",
      "source": [
        "#plot a barplot comparing the mean windspeed of autumn and spring\n",
        "sns.barplot(x = ['autumn_windspeed', 'spring_windspeed'], y = [total_autumn_wdsp, total_spring_wdsp])\n",
        "plt.title('Windspeed per season')\n",
        "plt.xlabel('Windspeed')\n",
        "plt.ylabel('Weather')\n",
        "plt.show()"
      ],
      "metadata": {
        "id": "nYfvi1ek98PF"
      },
      "execution_count": null,
      "outputs": []
    },
    {
      "cell_type": "code",
      "source": [
        "total_autumn_visib = autumn_weather.select(mean(\"VISIB\")).first()[0]"
      ],
      "metadata": {
        "id": "oLqKLjeS-Da9"
      },
      "execution_count": null,
      "outputs": []
    },
    {
      "cell_type": "code",
      "source": [
        "total_spring_visib = spring_weather.select(mean(\"VISIB\")).first()[0]"
      ],
      "metadata": {
        "id": "-o02fQ9b-Tf2"
      },
      "execution_count": null,
      "outputs": []
    },
    {
      "cell_type": "code",
      "source": [
        "#plot a barplot comparing the mean visibility of autumn and spring\n",
        "sns.barplot(x = ['autumn_visibility', 'spring_visibility'], y = [total_autumn_visib, total_spring_visib])\n",
        "plt.title('Visibility per season')\n",
        "plt.xlabel('Seasons')\n",
        "plt.ylabel('Visibility')\n",
        "plt.show()"
      ],
      "metadata": {
        "id": "60K_8JdB-aCJ"
      },
      "execution_count": null,
      "outputs": []
    },
    {
      "cell_type": "code",
      "source": [
        "#calculate the summary statistics for the precipitation column of the autumn subset\n",
        "min_autumn_prcp = autumn_weather.agg({\"PRCP\": \"min\"}).first()[0]\n",
        "mean_autumn_prcp = autumn_weather.agg({\"PRCP\": \"mean\"}).first()[0]\n",
        "max_autumn_prcp = autumn_weather.agg({\"PRCP\": \"max\"}).first()[0]\n",
        "skewness_autumn_prcp = autumn_weather.agg({\"PRCP\": \"skewness\"}).first()[0]\n",
        "stddev_autumn_prcp = autumn_weather.agg({\"PRCP\": \"stddev\"}).first()[0]\n",
        "\n",
        "print(min_autumn_prcp)\n",
        "print(mean_autumn_prcp)\n",
        "print(max_autumn_prcp)\n",
        "print(skewness_autumn_prcp)\n",
        "print(stddev_autumn_prcp)"
      ],
      "metadata": {
        "id": "FiLk0EPZ-ipJ"
      },
      "execution_count": null,
      "outputs": []
    },
    {
      "cell_type": "code",
      "source": [
        "#calculate the summary statistics for the visibility column of the autumn subset\n",
        "min_autumn_visib = autumn_weather.agg({\"VISIB\": \"min\"}).first()[0]\n",
        "mean_autumn_visib = autumn_weather.agg({\"VISIB\": \"mean\"}).first()[0]\n",
        "max_autumn_visib = autumn_weather.agg({\"VISIB\": \"max\"}).first()[0]\n",
        "skewness_autumn_visib = autumn_weather.agg({\"VISIB\": \"skewness\"}).first()[0]\n",
        "stddev_autumn_visib = autumn_weather.agg({\"VISIB\": \"stddev\"}).first()[0]\n",
        "\n",
        "print(min_autumn_visib)\n",
        "print(mean_autumn_visib)\n",
        "print(max_autumn_visib)\n",
        "print(skewness_autumn_visib)\n",
        "print(stddev_autumn_visib)"
      ],
      "metadata": {
        "id": "AZJ0qb_m_xzk"
      },
      "execution_count": null,
      "outputs": []
    },
    {
      "cell_type": "code",
      "source": [
        "#calculate the summary statistics for the windspeed column of the autumn subset\n",
        "min_autumn_wdsp = autumn_weather.agg({\"WDSP\": \"min\"}).first()[0]\n",
        "mean_autumn_wdsp = autumn_weather.agg({\"WDSP\": \"mean\"}).first()[0]\n",
        "max_autumn_wdsp = autumn_weather.agg({\"WDSP\": \"max\"}).first()[0]\n",
        "skewness_autumn_wdsp = autumn_weather.agg({\"WDSP\": \"skewness\"}).first()[0]\n",
        "stddev_autumn_wdsp = autumn_weather.agg({\"WDSP\": \"stddev\"}).first()[0]\n",
        "\n",
        "print(min_autumn_wdsp)\n",
        "print(mean_autumn_wdsp)\n",
        "print(max_autumn_wdsp)\n",
        "print(skewness_autumn_wdsp)\n",
        "print(stddev_autumn_wdsp)"
      ],
      "metadata": {
        "id": "xYkR4zTWAKKe"
      },
      "execution_count": null,
      "outputs": []
    },
    {
      "cell_type": "code",
      "source": [
        "#calculate the summary statistics for the precipitation column of the spring subset\n",
        "min_spring_prcp = spring_weather.agg({\"PRCP\": \"min\"}).first()[0]\n",
        "mean_spring_prcp = spring_weather.agg({\"PRCP\": \"mean\"}).first()[0]\n",
        "max_spring_prcp = spring_weather.agg({\"PRCP\": \"max\"}).first()[0]\n",
        "skewness_spring_prcp = spring_weather.agg({\"PRCP\": \"skewness\"}).first()[0]\n",
        "stddev_spring_prcp = spring_weather.agg({\"PRCP\": \"stddev\"}).first()[0]\n",
        "\n",
        "print(min_spring_prcp)\n",
        "print(mean_spring_prcp)\n",
        "print(max_spring_prcp)\n",
        "print(skewness_spring_prcp)\n",
        "print(stddev_spring_prcp)"
      ],
      "metadata": {
        "id": "frLdRaqNUu5O"
      },
      "execution_count": null,
      "outputs": []
    },
    {
      "cell_type": "code",
      "source": [
        "#calculate the summary statistics for the windspeed column of the spring subset\n",
        "min_spring_wdsp = spring_weather.agg({\"WDSP\": \"min\"}).first()[0]\n",
        "mean_spring_wdsp = spring_weather.agg({\"WDSP\": \"mean\"}).first()[0]\n",
        "max_spring_wdsp = spring_weather.agg({\"WDSP\": \"max\"}).first()[0]\n",
        "skewness_spring_wdsp = spring_weather.agg({\"WDSP\": \"skewness\"}).first()[0]\n",
        "stddev_spring_wdsp = spring_weather.agg({\"WDSP\": \"stddev\"}).first()[0]\n",
        "\n",
        "print(min_spring_wdsp)\n",
        "print(mean_spring_wdsp)\n",
        "print(max_spring_wdsp)\n",
        "print(skewness_spring_wdsp)\n",
        "print(stddev_spring_wdsp)"
      ],
      "metadata": {
        "id": "QQXB_YrIUZzx"
      },
      "execution_count": null,
      "outputs": []
    },
    {
      "cell_type": "code",
      "source": [
        "#calculate the summary statistics for the visibility column of the spring subset\n",
        "min_spring_visib = spring_weather.agg({\"VISIB\": \"min\"}).first()[0]\n",
        "mean_spring_visib = spring_weather.agg({\"VISIB\": \"mean\"}).first()[0]\n",
        "max_spring_visib = spring_weather.agg({\"VISIB\": \"max\"}).first()[0]\n",
        "skewness_spring_visib = spring_weather.agg({\"VISIB\": \"skewness\"}).first()[0]\n",
        "stddev_spring_visib = spring_weather.agg({\"VISIB\": \"stddev\"}).first()[0]\n",
        "\n",
        "print(min_spring_visib)\n",
        "print(mean_spring_visib)\n",
        "print(max_spring_visib)\n",
        "print(skewness_spring_visib)\n",
        "print(stddev_spring_visib)"
      ],
      "metadata": {
        "id": "Wn4CEB69VPss"
      },
      "execution_count": null,
      "outputs": []
    },
    {
      "cell_type": "code",
      "source": [
        "#concatenate the autumn and spring subsets\n",
        "autumn_spring_weather = autumn_weather.union(spring_weather)\n",
        "print(\"mix: \",autumn_spring_weather.count())"
      ],
      "metadata": {
        "id": "spPS3Nw7AonE"
      },
      "execution_count": null,
      "outputs": []
    },
    {
      "cell_type": "code",
      "source": [
        "# Perform inner join on the 'end date' and 'date' columns\n",
        "Joined_df = autumn_spring_df.join(autumn_spring_weather, autumn_spring_df['End Date'] == autumn_spring_weather['DATE'], 'inner')\n",
        "\n",
        "# Show the result\n",
        "Joined_df.show()"
      ],
      "metadata": {
        "id": "PlS11hjSWUFh"
      },
      "execution_count": null,
      "outputs": []
    },
    {
      "cell_type": "code",
      "source": [
        "numRows = Joined_df.count()\n",
        "print(\"there are \",numRows,\" rows\")"
      ],
      "metadata": {
        "id": "j88mWhzRW9Cw"
      },
      "execution_count": null,
      "outputs": []
    },
    {
      "cell_type": "code",
      "source": [
        "# Convert the PySpark DataFrame to a Pandas DataFrame\n",
        "pandas_df = Joined_df.select(\"Duration\", \"TEMP\").toPandas()\n",
        "\n",
        "# Plotting the Duration against Precipitation\n",
        "plt.scatter(pandas_df[\"TEMP\"], pandas_df[\"Duration\"])\n",
        "plt.xlabel(\"Temperature\")\n",
        "plt.ylabel(\"Duration\")\n",
        "plt.title(\"Duration vs Temperature\")\n",
        "plt.show()"
      ],
      "metadata": {
        "id": "TOvnYBXxXKLO"
      },
      "execution_count": null,
      "outputs": []
    },
    {
      "cell_type": "code",
      "source": [
        "\n",
        "# Convert the DataFrame columns to Pandas Series for plotting\n",
        "temperature = Joined_df.select('PRCP').toPandas()['PRCP']\n",
        "duration = Joined_df.select('Duration').toPandas()['Duration']\n",
        "\n",
        "# Plotting the relationship between ride duration and temperature\n",
        "plt.plot(temperature, duration, 'b-', label='Duration vs Precipitation')\n",
        "plt.xlabel('Precipitation')\n",
        "plt.ylabel('Duration')\n",
        "plt.title('Relationship between Ride Duration and Precipitation')\n",
        "plt.legend()\n",
        "plt.show()"
      ],
      "metadata": {
        "id": "MMSwxwPol0zc"
      },
      "execution_count": null,
      "outputs": []
    },
    {
      "cell_type": "code",
      "source": [
        "# Convert the PySpark DataFrame to a Pandas DataFrame\n",
        "pandas_df = Joined_df.select(\"Duration\", \"PRCP\").toPandas()\n",
        "\n",
        "# Plotting the Duration against Precipitation\n",
        "plt.scatter(pandas_df[\"PRCP\"], pandas_df[\"Duration\"])\n",
        "plt.xlabel(\"Precipitation\")\n",
        "plt.ylabel(\"Duration\")\n",
        "plt.title(\"Duration vs Precipitation\")\n",
        "plt.show()"
      ],
      "metadata": {
        "id": "Qaq7QlUMjoR9"
      },
      "execution_count": null,
      "outputs": []
    },
    {
      "cell_type": "code",
      "source": [
        "# Convert the PySpark DataFrame to a Pandas DataFrame\n",
        "pandas_df = Joined_df.select(\"Duration\", \"WDSP\").toPandas()\n",
        "\n",
        "# Plotting the Duration against Precipitation\n",
        "plt.scatter(pandas_df[\"WDSP\"], pandas_df[\"Duration\"])\n",
        "plt.xlabel(\"Wind speed\")\n",
        "plt.ylabel(\"Duration\")\n",
        "plt.title(\"Duration vs Wind speed\")\n",
        "plt.show()"
      ],
      "metadata": {
        "id": "SldRH1zHkV-R"
      },
      "execution_count": null,
      "outputs": []
    },
    {
      "cell_type": "code",
      "source": [
        "# Convert the PySpark DataFrame to a Pandas DataFrame\n",
        "pandas_df = Joined_df.select(\"Duration\", \"VISIB\").toPandas()\n",
        "\n",
        "# Plotting the Duration against Precipitation\n",
        "plt.scatter(pandas_df[\"VISIB\"], pandas_df[\"Duration\"])\n",
        "plt.xlabel(\"Visibility\")\n",
        "plt.ylabel(\"Duration\")\n",
        "plt.title(\"Duration vs Visibility\")\n",
        "plt.show()"
      ],
      "metadata": {
        "id": "W2yk1BYgmenm"
      },
      "execution_count": null,
      "outputs": []
    },
    {
      "cell_type": "code",
      "source": [
        "from pyspark.sql.functions import corr\n",
        "# Compute the correlation between ride duration and precipitation\n",
        "correlation_precipitation = Joined_df.select(corr(\"Duration\", \"PRCP\")).first()[0]\n",
        "\n",
        "# Compute the correlation between ride duration and temperature\n",
        "correlation_temperature = Joined_df.select(corr(\"Duration\", \"TEMP\")).first()[0]\n",
        "\n",
        "# Compute the correlation between ride duration and wind speed\n",
        "correlation_wind_speed = Joined_df.select(corr(\"Duration\", \"WDSP\")).first()[0]\n",
        "\n",
        "# Compute the correlation between ride duration and wind speed\n",
        "correlation_visibility = Joined_df.select(corr(\"Duration\", \"VISIB\")).first()[0]\n",
        "\n",
        "# Print the correlation coefficients\n",
        "print(\"Correlation - Precipitation vs Duration:\", correlation_precipitation)\n",
        "print(\"Correlation - Temperature vs Duration:\", correlation_temperature)\n",
        "print(\"Correlation - Wind Speed vs Duration:\", correlation_wind_speed)\n",
        "print(\"Correlation - Visibility vs Duration:\", correlation_visibility)"
      ],
      "metadata": {
        "id": "ySvtezzuq7U2"
      },
      "execution_count": null,
      "outputs": []
    },
    {
      "cell_type": "code",
      "source": [],
      "metadata": {
        "id": "lf7dRpOt-oqo"
      },
      "execution_count": null,
      "outputs": []
    }
  ],
  "metadata": {
    "colab": {
      "provenance": []
    },
    "kernelspec": {
      "display_name": "Python 3",
      "name": "python3"
    },
    "language_info": {
      "name": "python"
    }
  },
  "nbformat": 4,
  "nbformat_minor": 0
}